{
  "nbformat": 4,
  "nbformat_minor": 0,
  "metadata": {
    "colab": {
      "name": "Introduction.ipynb",
      "provenance": [],
      "collapsed_sections": [],
      "toc_visible": true,
      "authorship_tag": "ABX9TyMDYXDyxRbGQwgWol165Mxc",
      "include_colab_link": true
    },
    "kernelspec": {
      "name": "python3",
      "display_name": "Python 3"
    },
    "language_info": {
      "name": "python"
    }
  },
  "cells": [
    {
      "cell_type": "markdown",
      "metadata": {
        "id": "view-in-github",
        "colab_type": "text"
      },
      "source": [
        "<a href=\"https://colab.research.google.com/github/Utkarsh472/Python-Numpy/blob/main/Introduction.ipynb\" target=\"_parent\"><img src=\"https://colab.research.google.com/assets/colab-badge.svg\" alt=\"Open In Colab\"/></a>"
      ]
    },
    {
      "cell_type": "markdown",
      "source": [
        "1) Python Variables and Data Types"
      ],
      "metadata": {
        "id": "zJSa8AqpKgCT"
      }
    },
    {
      "cell_type": "code",
      "execution_count": null,
      "metadata": {
        "colab": {
          "base_uri": "https://localhost:8080/"
        },
        "id": "ZQOQTGBrKQdL",
        "outputId": "3c52ef20-edd7-452b-f41a-58536e585791"
      },
      "outputs": [
        {
          "output_type": "stream",
          "name": "stdout",
          "text": [
            "<class 'str'>\n",
            "<class 'int'>\n",
            "<class 'float'>\n",
            "<class 'bool'>\n",
            "<class 'list'>\n",
            "<class 'tuple'>\n",
            "<class 'dict'>\n"
          ]
        }
      ],
      "source": [
        "# A string Variable\n",
        "first_name = \"Joseph\" \n",
        "print(type(first_name))\n",
        "\n",
        "# An Integer Variable\n",
        "age = 20 \n",
        "print(type(age))\n",
        "\n",
        "# A floating point variable\n",
        "weight = 70.35\n",
        "print(type(weight))\n",
        "\n",
        "# A Boolean variable\n",
        "married = False\n",
        "print(type(married))\n",
        "\n",
        "#List\n",
        "cars = [\"Honda\", \"Toyota\", \"Suzuki\"]\n",
        "print(type(cars))\n",
        "\n",
        "#Tuples\n",
        "days = (\"Sunday\", \"Monday\", \"Tuesday\", \"Wednesday\", \"Thursday\", \"Friday\", \"Saturday\")\n",
        "print(type(days))\n",
        "\n",
        "#Dictionaries\n",
        "days2 = {1:\"Sunday\", 2:\"Monday\", 3:\"Tuesday\", 4:\"Wednesday\", 5:\"Thursday\", 6:\"Friday\", 7:\"Saturday\"}\n",
        "print(type(days2))"
      ]
    },
    {
      "cell_type": "markdown",
      "source": [
        "1.1)Python Operators\n",
        "\n",
        "1) Arithmetic Operators\n"
      ],
      "metadata": {
        "id": "u37IY28AKr7J"
      }
    },
    {
      "cell_type": "code",
      "source": [
        "X = 20 \n",
        "Y = 10 \n",
        "print(X + Y) \n",
        "print(X - Y) \n",
        "print(X * Y) \n",
        "print(X / Y) \n",
        "print(X ** Y)"
      ],
      "metadata": {
        "colab": {
          "base_uri": "https://localhost:8080/"
        },
        "id": "EeOePJAKKVfT",
        "outputId": "a64aa036-4864-46be-d8b7-0a2121ae710e"
      },
      "execution_count": null,
      "outputs": [
        {
          "output_type": "stream",
          "name": "stdout",
          "text": [
            "30\n",
            "10\n",
            "200\n",
            "2.0\n",
            "10240000000000\n"
          ]
        }
      ]
    },
    {
      "cell_type": "markdown",
      "source": [
        "2) Logical Operators"
      ],
      "metadata": {
        "id": "dpJ_55mJK5Kd"
      }
    },
    {
      "cell_type": "code",
      "source": [
        "X = True \n",
        "Y = False \n",
        "print(X and Y) \n",
        "print(X or Y) \n",
        "print(not(X and Y))"
      ],
      "metadata": {
        "colab": {
          "base_uri": "https://localhost:8080/"
        },
        "id": "w9P1FrJ7LfOl",
        "outputId": "abb63a96-a5c2-4692-fa1a-55f3dbafcf52"
      },
      "execution_count": null,
      "outputs": [
        {
          "output_type": "stream",
          "name": "stdout",
          "text": [
            "False\n",
            "True\n",
            "True\n"
          ]
        }
      ]
    },
    {
      "cell_type": "markdown",
      "source": [
        "3) Comparison Operators"
      ],
      "metadata": {
        "id": "XQRNZfEYLj-Z"
      }
    },
    {
      "cell_type": "code",
      "source": [
        "X = 20\n",
        "Y = 35\n",
        "\n",
        "print(X == Y) \n",
        "print(X != Y) \n",
        "print(X > Y) \n",
        "print(X < Y) \n",
        "print(X >= Y) \n",
        "print(X <= Y)"
      ],
      "metadata": {
        "colab": {
          "base_uri": "https://localhost:8080/"
        },
        "id": "7U9VXwf-LpuN",
        "outputId": "bf58c63e-b806-4820-a85e-ee6beccdfdd0"
      },
      "execution_count": null,
      "outputs": [
        {
          "output_type": "stream",
          "name": "stdout",
          "text": [
            "False\n",
            "True\n",
            "False\n",
            "True\n",
            "False\n",
            "True\n"
          ]
        }
      ]
    },
    {
      "cell_type": "markdown",
      "source": [
        "Assignment Operators"
      ],
      "metadata": {
        "id": "cSlDGy5dAKJk"
      }
    },
    {
      "cell_type": "code",
      "source": [
        "X = 20; Y = 10\n",
        "R = X + Y \n",
        "print(R)\n",
        "\n",
        "X = 20; \n",
        "Y = 10 \n",
        "X += Y\n",
        "print(X)\n",
        "\n",
        "X = 20; \n",
        "Y = 10 \n",
        "X -= Y \n",
        "print(X) \n",
        "\n",
        "X = 20;\n",
        "Y = 10 \n",
        "X *= Y \n",
        "print(X)\n",
        "\n",
        "X = 20;\n",
        "Y = 10 \n",
        "X /= Y \n",
        "print(X) \n",
        "\n",
        "X = 20;\n",
        "Y = 10 \n",
        "X %= Y \n",
        "print(X) \n",
        "\n",
        "X = 20; \n",
        "Y = 10 \n",
        "X **= Y \n",
        "print(X)"
      ],
      "metadata": {
        "colab": {
          "base_uri": "https://localhost:8080/"
        },
        "id": "vsBp2G_dARXR",
        "outputId": "9a16faba-0a3e-4856-cd84-2b1a5e706963"
      },
      "execution_count": 1,
      "outputs": [
        {
          "output_type": "stream",
          "name": "stdout",
          "text": [
            "30\n",
            "30\n",
            "10\n",
            "200\n",
            "2.0\n",
            "0\n",
            "10240000000000\n"
          ]
        }
      ]
    },
    {
      "cell_type": "markdown",
      "source": [
        "Membership Operators\n"
      ],
      "metadata": {
        "id": "xtAMfaMkAfet"
      }
    },
    {
      "cell_type": "code",
      "source": [
        "days = (\"Sunday\", \"Monday\", \"Tuesday\", \"Wednesday\", \"Thursday\", \"Friday\", \"Saturday\")\n",
        "print('Sunday' in days)"
      ],
      "metadata": {
        "colab": {
          "base_uri": "https://localhost:8080/"
        },
        "id": "2rnhaE5OAiEf",
        "outputId": "2a4b70a2-4aa3-412c-a21f-8124183d6cc8"
      },
      "execution_count": 2,
      "outputs": [
        {
          "output_type": "stream",
          "name": "stdout",
          "text": [
            "True\n"
          ]
        }
      ]
    },
    {
      "cell_type": "code",
      "source": [
        "days = (\"Sunday\", \"Monday\", \"Tuesday\", \"Wednesday\", \"Thursday\", \"Friday\", \"Saturday\")\n",
        "print('Xunday' not in days)"
      ],
      "metadata": {
        "id": "KrAgkzoiLsbA",
        "colab": {
          "base_uri": "https://localhost:8080/"
        },
        "outputId": "31497a41-5f8d-4622-be97-308dfbf496f3"
      },
      "execution_count": 3,
      "outputs": [
        {
          "output_type": "stream",
          "name": "stdout",
          "text": [
            "True\n"
          ]
        }
      ]
    },
    {
      "cell_type": "markdown",
      "source": [
        "Conditional Statements"
      ],
      "metadata": {
        "id": "G4H1V7flAwB1"
      }
    },
    {
      "cell_type": "code",
      "source": [
        "# The if statment\n",
        "\n",
        "if 10 > 5:\n",
        "    print(\"Ten is greater than 10\")"
      ],
      "metadata": {
        "colab": {
          "base_uri": "https://localhost:8080/"
        },
        "id": "jzeYXO1pAyOG",
        "outputId": "78bd6e8e-5f43-4868-c6ba-bdb4959944c3"
      },
      "execution_count": 4,
      "outputs": [
        {
          "output_type": "stream",
          "name": "stdout",
          "text": [
            "Ten is greater than 10\n"
          ]
        }
      ]
    },
    {
      "cell_type": "code",
      "source": [
        "# if-else statement\n",
        "\n",
        "if  5 > 10:\n",
        "    print(\"5 is greater than 10\")\n",
        "else:\n",
        "    print(\"10 is greater than 5\")"
      ],
      "metadata": {
        "colab": {
          "base_uri": "https://localhost:8080/"
        },
        "id": "1GvF1ipyAqDh",
        "outputId": "a73f6aed-a387-407b-e044-f3ef64eb38be"
      },
      "execution_count": 5,
      "outputs": [
        {
          "output_type": "stream",
          "name": "stdout",
          "text": [
            "10 is greater than 5\n"
          ]
        }
      ]
    },
    {
      "cell_type": "code",
      "source": [
        "#if-elif and else\n",
        "\n",
        "if  5 > 10:\n",
        "    print(\"5 is greater than 10\")\n",
        "elif 8 < 4:\n",
        "    print(\"8 is smaller than 4\")\n",
        "else:\n",
        "    print(\"5 is not greater than 10 and 8 is not smaller than 4\")"
      ],
      "metadata": {
        "colab": {
          "base_uri": "https://localhost:8080/"
        },
        "id": "66ZeKf8cA7P4",
        "outputId": "a19bdf31-9626-4f06-f549-34646420013b"
      },
      "execution_count": 6,
      "outputs": [
        {
          "output_type": "stream",
          "name": "stdout",
          "text": [
            "5 is not greater than 10 and 8 is not smaller than 4\n"
          ]
        }
      ]
    },
    {
      "cell_type": "markdown",
      "source": [
        "Iteration Statements"
      ],
      "metadata": {
        "id": "Fk3WF004BD17"
      }
    },
    {
      "cell_type": "code",
      "source": [
        "items = range(5)\n",
        "for item in items:\n",
        "    print(item)"
      ],
      "metadata": {
        "colab": {
          "base_uri": "https://localhost:8080/"
        },
        "id": "Rrz9h4QBBA_f",
        "outputId": "15b2b7c9-ab42-436b-c0b0-5a6cb53466d7"
      },
      "execution_count": 7,
      "outputs": [
        {
          "output_type": "stream",
          "name": "stdout",
          "text": [
            "0\n",
            "1\n",
            "2\n",
            "3\n",
            "4\n"
          ]
        }
      ]
    },
    {
      "cell_type": "code",
      "source": [
        "c = 0\n",
        "while c < 10:\n",
        "    print(c)\n",
        "    c = c +1"
      ],
      "metadata": {
        "colab": {
          "base_uri": "https://localhost:8080/"
        },
        "id": "c1yYFNPVBKHp",
        "outputId": "fac1099d-fafa-46de-d92e-49143c107bf0"
      },
      "execution_count": 8,
      "outputs": [
        {
          "output_type": "stream",
          "name": "stdout",
          "text": [
            "0\n",
            "1\n",
            "2\n",
            "3\n",
            "4\n",
            "5\n",
            "6\n",
            "7\n",
            "8\n",
            "9\n"
          ]
        }
      ]
    },
    {
      "cell_type": "markdown",
      "source": [
        "Functions:"
      ],
      "metadata": {
        "id": "aJIYM8igBRHs"
      }
    },
    {
      "cell_type": "code",
      "source": [
        "def myfunc():\n",
        "    print(\"This is a simple function\")\n",
        "    \n",
        "### function call\n",
        "myfunc()"
      ],
      "metadata": {
        "colab": {
          "base_uri": "https://localhost:8080/"
        },
        "id": "UVHKE_jMBOY5",
        "outputId": "3f5bb20e-68ea-4b4d-c555-a4b752c3d24d"
      },
      "execution_count": 9,
      "outputs": [
        {
          "output_type": "stream",
          "name": "stdout",
          "text": [
            "This is a simple function\n"
          ]
        }
      ]
    },
    {
      "cell_type": "code",
      "source": [
        "def myfuncparam(num):\n",
        "    print(\"This is a function with parameter value: \"+num)\n",
        "    \n",
        "### function call\n",
        "myfuncparam(\"Parameter 1\")"
      ],
      "metadata": {
        "colab": {
          "base_uri": "https://localhost:8080/"
        },
        "id": "GT4dW6olBV-B",
        "outputId": "d388ab25-09a5-4ad7-eab9-897652f97f07"
      },
      "execution_count": 10,
      "outputs": [
        {
          "output_type": "stream",
          "name": "stdout",
          "text": [
            "This is a function with parameter value: Parameter 1\n"
          ]
        }
      ]
    },
    {
      "cell_type": "code",
      "source": [
        "def myreturnfunc():\n",
        "    return \"This function returns a value\"\n",
        "\n",
        "val = myreturnfunc()\n",
        "print(val)"
      ],
      "metadata": {
        "colab": {
          "base_uri": "https://localhost:8080/"
        },
        "id": "LhrAUoUoBZ-L",
        "outputId": "a67e63ec-fdd3-4980-ce8e-63346f58c34a"
      },
      "execution_count": 11,
      "outputs": [
        {
          "output_type": "stream",
          "name": "stdout",
          "text": [
            "This function returns a value\n"
          ]
        }
      ]
    },
    {
      "cell_type": "markdown",
      "source": [
        "Objects and Classes"
      ],
      "metadata": {
        "id": "PY0uWmWRBnhQ"
      }
    },
    {
      "cell_type": "code",
      "source": [
        "class Fruit:\n",
        "    \n",
        "    name = \"apple\"\n",
        "    price = 10\n",
        "    \n",
        "    def eat_fruit(self):\n",
        "        print(\"Fruit has been eaten\")\n",
        "        \n",
        "\n",
        "f = Fruit()\n",
        "f.eat_fruit()\n",
        "print(f.name)\n",
        "print(f.price)"
      ],
      "metadata": {
        "colab": {
          "base_uri": "https://localhost:8080/"
        },
        "id": "-L7uUUvlBkOQ",
        "outputId": "1efcef17-01b8-4004-fc1a-a86d0201a8ab"
      },
      "execution_count": 12,
      "outputs": [
        {
          "output_type": "stream",
          "name": "stdout",
          "text": [
            "Fruit has been eaten\n",
            "apple\n",
            "10\n"
          ]
        }
      ]
    },
    {
      "cell_type": "code",
      "source": [
        "class Fruit:\n",
        "    \n",
        "    name = \"apple\"\n",
        "    price = 10\n",
        "    \n",
        "    def __init__(self, fruit_name, fruit_price):\n",
        "        Fruit.name = fruit_name\n",
        "        Fruit.price = fruit_price\n",
        "        \n",
        "    def eat_fruit(self):\n",
        "        print(\"Fruit has been eaten\")\n",
        "        \n",
        "\n",
        "f = Fruit(\"Orange\", 15)\n",
        "f.eat_fruit()\n",
        "print(f.name)\n",
        "print(f.price)"
      ],
      "metadata": {
        "colab": {
          "base_uri": "https://localhost:8080/"
        },
        "id": "snImhPAHBvND",
        "outputId": "a74f9eb9-1813-48f1-e101-733089072527"
      },
      "execution_count": 13,
      "outputs": [
        {
          "output_type": "stream",
          "name": "stdout",
          "text": [
            "Fruit has been eaten\n",
            "Orange\n",
            "15\n"
          ]
        }
      ]
    },
    {
      "cell_type": "code",
      "source": [
        ""
      ],
      "metadata": {
        "id": "6_c1yR3qC93f"
      },
      "execution_count": null,
      "outputs": []
    }
  ]
}
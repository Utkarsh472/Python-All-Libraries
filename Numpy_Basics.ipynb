{
  "nbformat": 4,
  "nbformat_minor": 0,
  "metadata": {
    "colab": {
      "name": "Numpy_Basics.ipynb",
      "provenance": [],
      "collapsed_sections": [],
      "authorship_tag": "ABX9TyMLrspvYQCPEI48EZkNfYHN",
      "include_colab_link": true
    },
    "kernelspec": {
      "name": "python3",
      "display_name": "Python 3"
    },
    "language_info": {
      "name": "python"
    }
  },
  "cells": [
    {
      "cell_type": "markdown",
      "metadata": {
        "id": "view-in-github",
        "colab_type": "text"
      },
      "source": [
        "<a href=\"https://colab.research.google.com/github/Utkarsh472/Python-Numpy/blob/main/Numpy_Basics.ipynb\" target=\"_parent\"><img src=\"https://colab.research.google.com/assets/colab-badge.svg\" alt=\"Open In Colab\"/></a>"
      ]
    },
    {
      "cell_type": "markdown",
      "source": [
        "Numpy Data Types\n"
      ],
      "metadata": {
        "id": "XUXaAJWpL7Bk"
      }
    },
    {
      "cell_type": "code",
      "execution_count": null,
      "metadata": {
        "colab": {
          "base_uri": "https://localhost:8080/"
        },
        "id": "1OktZlpjL1Re",
        "outputId": "2a976a7f-6808-409d-a03b-d77f97527364"
      },
      "outputs": [
        {
          "output_type": "stream",
          "name": "stdout",
          "text": [
            "[10 12 14 16 20 25]\n",
            "int64\n",
            "8\n"
          ]
        }
      ],
      "source": [
        "import numpy as np\n",
        "\n",
        "my_array = np.array([10,12,14,16,20,25])\n",
        "\n",
        "print(my_array)\n",
        "print(my_array.dtype)\n",
        "print(my_array.dtype.itemsize)"
      ]
    },
    {
      "cell_type": "code",
      "source": [
        "import numpy as np\n",
        "\n",
        "my_array = np.array([\"Red\", \"Green\", \"Orange\"])\n",
        "\n",
        "print(my_array)\n",
        "print(my_array.dtype)\n",
        "print(my_array.dtype.itemsize)"
      ],
      "metadata": {
        "colab": {
          "base_uri": "https://localhost:8080/"
        },
        "id": "jgrRiUZMMDx9",
        "outputId": "df00f38a-3917-481c-a85d-39a69940f067"
      },
      "execution_count": null,
      "outputs": [
        {
          "output_type": "stream",
          "name": "stdout",
          "text": [
            "['Red' 'Green' 'Orange']\n",
            "<U6\n",
            "24\n"
          ]
        }
      ]
    },
    {
      "cell_type": "code",
      "source": [
        "import numpy as np\n",
        "\n",
        "my_array = np.array([\"1990-10-04\", \"1989-05-06\", \"1990-11-04\"])\n",
        "\n",
        "print(my_array)\n",
        "print(my_array.dtype)\n",
        "print(my_array.dtype.itemsize)"
      ],
      "metadata": {
        "colab": {
          "base_uri": "https://localhost:8080/"
        },
        "id": "I6DYjZzkM1-M",
        "outputId": "5e8bb484-6761-4ffa-e541-d9015b6bc1d4"
      },
      "execution_count": null,
      "outputs": [
        {
          "output_type": "stream",
          "name": "stdout",
          "text": [
            "['1990-10-04' '1989-05-06' '1990-11-04']\n",
            "<U10\n",
            "40\n"
          ]
        }
      ]
    },
    {
      "cell_type": "code",
      "source": [
        "my_array3 = my_array.astype(\"M\")\n",
        "\n",
        "print(my_array3.dtype)\n",
        "print(my_array3.dtype.itemsize)"
      ],
      "metadata": {
        "colab": {
          "base_uri": "https://localhost:8080/"
        },
        "id": "-kRBryvTM2m_",
        "outputId": "5084b2a1-8a61-4a2e-c052-0ba35745bbef"
      },
      "execution_count": null,
      "outputs": [
        {
          "output_type": "stream",
          "name": "stdout",
          "text": [
            "datetime64[D]\n",
            "8\n"
          ]
        }
      ]
    },
    {
      "cell_type": "code",
      "source": [
        "import numpy as np\n",
        "\n",
        "my_array = np.array([\"1990-10-04\", \"1989-05-06\", \"1990-11-04\"], dtype = \"M\")\n",
        "\n",
        "print(my_array)\n",
        "print(my_array.dtype)\n",
        "print(my_array.dtype.itemsize)"
      ],
      "metadata": {
        "colab": {
          "base_uri": "https://localhost:8080/"
        },
        "id": "dZm7ovU1NAkI",
        "outputId": "e875b422-f61b-4882-c27f-991e34d70a2a"
      },
      "execution_count": null,
      "outputs": [
        {
          "output_type": "stream",
          "name": "stdout",
          "text": [
            "['1990-10-04' '1989-05-06' '1990-11-04']\n",
            "datetime64[D]\n",
            "8\n"
          ]
        }
      ]
    },
    {
      "cell_type": "markdown",
      "source": [
        "Creating NumPy Arrays\n",
        "\n",
        "1) Using Array Method\n",
        "\n"
      ],
      "metadata": {
        "id": "jKRJEGL_NUcc"
      }
    },
    {
      "cell_type": "code",
      "source": [
        "import numpy as np\n",
        "nums_list = [10,12,14,16,20]\n",
        "nums_array = np.array(nums_list)\n",
        "type(nums_array) "
      ],
      "metadata": {
        "colab": {
          "base_uri": "https://localhost:8080/"
        },
        "id": "pcVra43QNHSw",
        "outputId": "17268329-2d4b-489b-febf-1176a3f47049"
      },
      "execution_count": null,
      "outputs": [
        {
          "output_type": "execute_result",
          "data": {
            "text/plain": [
              "numpy.ndarray"
            ]
          },
          "metadata": {},
          "execution_count": 6
        }
      ]
    },
    {
      "cell_type": "code",
      "source": [
        "row1 = [10,12,13]\n",
        "row2 = [45,32,16]\n",
        "row3 = [45,32,16]\n",
        "\n",
        "nums_2d = np.array([row1, row2, row3])\n",
        "nums_2d.shape "
      ],
      "metadata": {
        "colab": {
          "base_uri": "https://localhost:8080/"
        },
        "id": "4bxocfhDNcjy",
        "outputId": "e9583f80-d0d3-472e-b9b9-6c2cb0938128"
      },
      "execution_count": null,
      "outputs": [
        {
          "output_type": "execute_result",
          "data": {
            "text/plain": [
              "(3, 3)"
            ]
          },
          "metadata": {},
          "execution_count": 7
        }
      ]
    },
    {
      "cell_type": "markdown",
      "source": [
        "2) Using Arange Method"
      ],
      "metadata": {
        "id": "ltPW2Qa_NoRh"
      }
    },
    {
      "cell_type": "code",
      "source": [
        "nums_arr = np.arange(5,11)\n",
        "print(nums_arr)"
      ],
      "metadata": {
        "colab": {
          "base_uri": "https://localhost:8080/"
        },
        "id": "QfaF2MdSNi9-",
        "outputId": "8a652e5c-3a38-4f6b-e541-c9535d632d27"
      },
      "execution_count": null,
      "outputs": [
        {
          "output_type": "stream",
          "name": "stdout",
          "text": [
            "[ 5  6  7  8  9 10]\n"
          ]
        }
      ]
    },
    {
      "cell_type": "code",
      "source": [
        "nums_arr = np.arange(5,12,2)\n",
        "print(nums_arr)"
      ],
      "metadata": {
        "colab": {
          "base_uri": "https://localhost:8080/"
        },
        "id": "7OeGr9mGNxvq",
        "outputId": "4fbd0920-1c25-47ef-ce06-1a3299c27481"
      },
      "execution_count": null,
      "outputs": [
        {
          "output_type": "stream",
          "name": "stdout",
          "text": [
            "[ 5  7  9 11]\n"
          ]
        }
      ]
    },
    {
      "cell_type": "markdown",
      "source": [
        "3) Using Ones Method"
      ],
      "metadata": {
        "id": "jWFjuiQmN7Y_"
      }
    },
    {
      "cell_type": "code",
      "source": [
        "ones_array = np.ones(6)\n",
        "print(ones_array)"
      ],
      "metadata": {
        "colab": {
          "base_uri": "https://localhost:8080/"
        },
        "id": "U8fZZtZZNzzT",
        "outputId": "a1b584fe-e738-4e35-bf07-a635e5f9b1de"
      },
      "execution_count": null,
      "outputs": [
        {
          "output_type": "stream",
          "name": "stdout",
          "text": [
            "[1. 1. 1. 1. 1. 1.]\n"
          ]
        }
      ]
    },
    {
      "cell_type": "code",
      "source": [
        "ones_array = np.ones((6,4))\n",
        "print(ones_array)"
      ],
      "metadata": {
        "colab": {
          "base_uri": "https://localhost:8080/"
        },
        "id": "lFsNBHZcOCHf",
        "outputId": "ffc4dfc8-6825-4d1a-c059-6acd7c3fc7f7"
      },
      "execution_count": null,
      "outputs": [
        {
          "output_type": "stream",
          "name": "stdout",
          "text": [
            "[[1. 1. 1. 1.]\n",
            " [1. 1. 1. 1.]\n",
            " [1. 1. 1. 1.]\n",
            " [1. 1. 1. 1.]\n",
            " [1. 1. 1. 1.]\n",
            " [1. 1. 1. 1.]]\n"
          ]
        }
      ]
    },
    {
      "cell_type": "markdown",
      "source": [
        "4) Using Zeros Method"
      ],
      "metadata": {
        "id": "uYaYh1tOOMYl"
      }
    },
    {
      "cell_type": "code",
      "source": [
        "zeros_array = np.zeros(6)\n",
        "print(zeros_array)"
      ],
      "metadata": {
        "colab": {
          "base_uri": "https://localhost:8080/"
        },
        "id": "3zLs7ccyODYu",
        "outputId": "691fc19c-4aa4-4581-80ad-1063d5cf4aac"
      },
      "execution_count": null,
      "outputs": [
        {
          "output_type": "stream",
          "name": "stdout",
          "text": [
            "[0. 0. 0. 0. 0. 0.]\n"
          ]
        }
      ]
    },
    {
      "cell_type": "code",
      "source": [
        "zeros_array = np.zeros((6,4))\n",
        "print(zeros_array)"
      ],
      "metadata": {
        "colab": {
          "base_uri": "https://localhost:8080/"
        },
        "id": "AGjC1JW4OT0g",
        "outputId": "a8c322da-0ecc-4fce-e6bd-444f71a7bab0"
      },
      "execution_count": null,
      "outputs": [
        {
          "output_type": "stream",
          "name": "stdout",
          "text": [
            "[[0. 0. 0. 0.]\n",
            " [0. 0. 0. 0.]\n",
            " [0. 0. 0. 0.]\n",
            " [0. 0. 0. 0.]\n",
            " [0. 0. 0. 0.]\n",
            " [0. 0. 0. 0.]]\n"
          ]
        }
      ]
    },
    {
      "cell_type": "markdown",
      "source": [
        "5) Using Eyes Method"
      ],
      "metadata": {
        "id": "rmX3jVQGOaxT"
      }
    },
    {
      "cell_type": "code",
      "source": [
        "eyes_array = np.eye(5)\n",
        "print(eyes_array)"
      ],
      "metadata": {
        "colab": {
          "base_uri": "https://localhost:8080/"
        },
        "id": "Y-GzCwqlOXAD",
        "outputId": "e3d8d5ac-e180-48b2-88f4-464253a49d72"
      },
      "execution_count": null,
      "outputs": [
        {
          "output_type": "stream",
          "name": "stdout",
          "text": [
            "[[1. 0. 0. 0. 0.]\n",
            " [0. 1. 0. 0. 0.]\n",
            " [0. 0. 1. 0. 0.]\n",
            " [0. 0. 0. 1. 0.]\n",
            " [0. 0. 0. 0. 1.]]\n"
          ]
        }
      ]
    },
    {
      "cell_type": "markdown",
      "source": [
        "6) Using Random Method"
      ],
      "metadata": {
        "id": "gM1aeJ21OloR"
      }
    },
    {
      "cell_type": "code",
      "source": [
        "uniform_random = np.random.rand(4, 5)\n",
        "print(uniform_random)"
      ],
      "metadata": {
        "colab": {
          "base_uri": "https://localhost:8080/"
        },
        "id": "npc2A2RrOiFJ",
        "outputId": "5af02cf5-107c-4240-9918-c6ca906963ac"
      },
      "execution_count": null,
      "outputs": [
        {
          "output_type": "stream",
          "name": "stdout",
          "text": [
            "[[0.62364156 0.61490848 0.40883929 0.37003894 0.22329996]\n",
            " [0.90634775 0.60977995 0.64338431 0.01557602 0.11655535]\n",
            " [0.92783892 0.48728126 0.77749427 0.00868098 0.41949436]\n",
            " [0.55715253 0.58927218 0.69956312 0.19211557 0.41317187]]\n"
          ]
        }
      ]
    },
    {
      "cell_type": "code",
      "source": [
        "normal_random = np.random.randn(4, 5)\n",
        "print(uniform_random)"
      ],
      "metadata": {
        "colab": {
          "base_uri": "https://localhost:8080/"
        },
        "id": "Vce7fRppOv1j",
        "outputId": "fb3cbd08-3c21-4d6f-9b41-cbd1a2bba8ee"
      },
      "execution_count": null,
      "outputs": [
        {
          "output_type": "stream",
          "name": "stdout",
          "text": [
            "[[0.62364156 0.61490848 0.40883929 0.37003894 0.22329996]\n",
            " [0.90634775 0.60977995 0.64338431 0.01557602 0.11655535]\n",
            " [0.92783892 0.48728126 0.77749427 0.00868098 0.41949436]\n",
            " [0.55715253 0.58927218 0.69956312 0.19211557 0.41317187]]\n"
          ]
        }
      ]
    },
    {
      "cell_type": "code",
      "source": [
        "integer_random = np.random.randint(10, 50, 5)\n",
        "print(integer_random)"
      ],
      "metadata": {
        "colab": {
          "base_uri": "https://localhost:8080/"
        },
        "id": "B41Hgoe9O0lX",
        "outputId": "11797b78-1e75-4e9d-81e7-2bd526ade2b4"
      },
      "execution_count": null,
      "outputs": [
        {
          "output_type": "stream",
          "name": "stdout",
          "text": [
            "[16 33 48 46 35]\n"
          ]
        }
      ]
    },
    {
      "cell_type": "markdown",
      "source": [
        "Printing NumPy Arrays"
      ],
      "metadata": {
        "id": "UxAje7iYUM_7"
      }
    },
    {
      "cell_type": "code",
      "source": [
        "import numpy as np\n",
        "\n",
        "my_array = np.array([10,12,14,16,20,25])\n",
        "print(my_array)"
      ],
      "metadata": {
        "id": "Nt46WfrLPA6z",
        "colab": {
          "base_uri": "https://localhost:8080/"
        },
        "outputId": "af68068d-a615-4983-8fe5-14b50acc26a5"
      },
      "execution_count": 1,
      "outputs": [
        {
          "output_type": "stream",
          "name": "stdout",
          "text": [
            "[10 12 14 16 20 25]\n"
          ]
        }
      ]
    },
    {
      "cell_type": "code",
      "source": [
        "print(my_array.ndim)\n",
        "print(my_array.shape)"
      ],
      "metadata": {
        "colab": {
          "base_uri": "https://localhost:8080/"
        },
        "id": "bf3TZHF2UP0a",
        "outputId": "99c0b213-580a-45ee-9976-9e2537fadcc7"
      },
      "execution_count": 2,
      "outputs": [
        {
          "output_type": "stream",
          "name": "stdout",
          "text": [
            "1\n",
            "(6,)\n"
          ]
        }
      ]
    },
    {
      "cell_type": "code",
      "source": [
        "for i in my_array:\n",
        "    print(i)"
      ],
      "metadata": {
        "colab": {
          "base_uri": "https://localhost:8080/"
        },
        "id": "ls-gJ9JkUaZe",
        "outputId": "f97b885e-3817-4281-b0ce-63c333a58fa7"
      },
      "execution_count": 3,
      "outputs": [
        {
          "output_type": "stream",
          "name": "stdout",
          "text": [
            "10\n",
            "12\n",
            "14\n",
            "16\n",
            "20\n",
            "25\n"
          ]
        }
      ]
    },
    {
      "cell_type": "code",
      "source": [
        "integer_random = np.random.randint(1,11, size=(4, 5))\n",
        "print(integer_random)"
      ],
      "metadata": {
        "colab": {
          "base_uri": "https://localhost:8080/"
        },
        "id": "yZbqZt8BUe_1",
        "outputId": "3db2cc08-7b4c-4e7e-9001-06b308ffd60d"
      },
      "execution_count": 4,
      "outputs": [
        {
          "output_type": "stream",
          "name": "stdout",
          "text": [
            "[[ 7  9  8  5  9]\n",
            " [10  4  7  6  2]\n",
            " [ 8  3 10  8  2]\n",
            " [ 8  3  1  2  4]]\n"
          ]
        }
      ]
    },
    {
      "cell_type": "code",
      "source": [
        "print(integer_random.ndim)\n",
        "print(integer_random.shape)"
      ],
      "metadata": {
        "colab": {
          "base_uri": "https://localhost:8080/"
        },
        "id": "f1THIfueU6R8",
        "outputId": "13262288-5692-42cb-c47e-73fe09aec582"
      },
      "execution_count": 5,
      "outputs": [
        {
          "output_type": "stream",
          "name": "stdout",
          "text": [
            "2\n",
            "(4, 5)\n"
          ]
        }
      ]
    },
    {
      "cell_type": "code",
      "source": [
        "for i in integer_random:\n",
        "    print(i)"
      ],
      "metadata": {
        "colab": {
          "base_uri": "https://localhost:8080/"
        },
        "id": "r2rOwNhVU8fR",
        "outputId": "addf5d94-cf39-477d-e686-bbbc93add2a8"
      },
      "execution_count": 6,
      "outputs": [
        {
          "output_type": "stream",
          "name": "stdout",
          "text": [
            "[7 9 8 5 9]\n",
            "[10  4  7  6  2]\n",
            "[ 8  3 10  8  2]\n",
            "[8 3 1 2 4]\n"
          ]
        }
      ]
    },
    {
      "cell_type": "code",
      "source": [
        "for rows in integer_random:\n",
        "    for column in rows:\n",
        "        print(column)"
      ],
      "metadata": {
        "colab": {
          "base_uri": "https://localhost:8080/"
        },
        "id": "vPQLf4RkVAeZ",
        "outputId": "ad128e8c-27fa-48e9-c249-9cbddc8975ec"
      },
      "execution_count": 7,
      "outputs": [
        {
          "output_type": "stream",
          "name": "stdout",
          "text": [
            "7\n",
            "9\n",
            "8\n",
            "5\n",
            "9\n",
            "10\n",
            "4\n",
            "7\n",
            "6\n",
            "2\n",
            "8\n",
            "3\n",
            "10\n",
            "8\n",
            "2\n",
            "8\n",
            "3\n",
            "1\n",
            "2\n",
            "4\n"
          ]
        }
      ]
    },
    {
      "cell_type": "markdown",
      "source": [
        "Adding Items in an Array"
      ],
      "metadata": {
        "id": "P7BZua2xVYWQ"
      }
    },
    {
      "cell_type": "code",
      "source": [
        "import numpy as np\n",
        "\n",
        "my_array = np.array([\"Red\", \"Green\", \"Orange\"])\n",
        "print(my_array)\n",
        "\n",
        "extended = np.append(my_array, \"Yellow\")\n",
        "print(extended)"
      ],
      "metadata": {
        "colab": {
          "base_uri": "https://localhost:8080/"
        },
        "id": "FmmnhIVHVHBA",
        "outputId": "b41239d0-3653-408f-b614-7e71d44af8dc"
      },
      "execution_count": 8,
      "outputs": [
        {
          "output_type": "stream",
          "name": "stdout",
          "text": [
            "['Red' 'Green' 'Orange']\n",
            "['Red' 'Green' 'Orange' 'Yellow']\n"
          ]
        }
      ]
    },
    {
      "cell_type": "code",
      "source": [
        "zeros_array = np.zeros((3,3))\n",
        "print(zeros_array)"
      ],
      "metadata": {
        "colab": {
          "base_uri": "https://localhost:8080/"
        },
        "id": "qwbPKXmHVxdk",
        "outputId": "d12361cb-4cf5-4622-862e-a022e491615d"
      },
      "execution_count": 9,
      "outputs": [
        {
          "output_type": "stream",
          "name": "stdout",
          "text": [
            "[[0. 0. 0.]\n",
            " [0. 0. 0.]\n",
            " [0. 0. 0.]]\n"
          ]
        }
      ]
    },
    {
      "cell_type": "code",
      "source": [
        "zeros_array = np.zeros((3,3))\n",
        "print(zeros_array)\n",
        "print(\"Extended Array\")\n",
        "extended = np.append(zeros_array, [[1, 2, 3]], axis = 0)\n",
        "print(extended)"
      ],
      "metadata": {
        "colab": {
          "base_uri": "https://localhost:8080/"
        },
        "id": "gD5DbH6HV1pn",
        "outputId": "4eaf8a3c-fd24-44a8-fb13-7127e0a48221"
      },
      "execution_count": 10,
      "outputs": [
        {
          "output_type": "stream",
          "name": "stdout",
          "text": [
            "[[0. 0. 0.]\n",
            " [0. 0. 0.]\n",
            " [0. 0. 0.]]\n",
            "Extended Array\n",
            "[[0. 0. 0.]\n",
            " [0. 0. 0.]\n",
            " [0. 0. 0.]\n",
            " [1. 2. 3.]]\n"
          ]
        }
      ]
    },
    {
      "cell_type": "code",
      "source": [
        "zeros_array = np.zeros((3,3))\n",
        "print(zeros_array)\n",
        "print(\"Extended Array\")\n",
        "extended = np.append(zeros_array, [[1],[2],[3]], axis = 1)\n",
        "print(extended)"
      ],
      "metadata": {
        "colab": {
          "base_uri": "https://localhost:8080/"
        },
        "id": "kYdfLtJuV-yJ",
        "outputId": "cd909360-b227-4ba2-8eed-667c27c64407"
      },
      "execution_count": 11,
      "outputs": [
        {
          "output_type": "stream",
          "name": "stdout",
          "text": [
            "[[0. 0. 0.]\n",
            " [0. 0. 0.]\n",
            " [0. 0. 0.]]\n",
            "Extended Array\n",
            "[[0. 0. 0. 1.]\n",
            " [0. 0. 0. 2.]\n",
            " [0. 0. 0. 3.]]\n"
          ]
        }
      ]
    },
    {
      "cell_type": "markdown",
      "source": [
        "Removing Items from Array"
      ],
      "metadata": {
        "id": "s5Nk47EmWMmH"
      }
    },
    {
      "cell_type": "code",
      "source": [
        "import numpy as np\n",
        "\n",
        "my_array = np.array([\"Red\", \"Green\", \"Orange\"])\n",
        "print(my_array)\n",
        "\n",
        "print(\"After deletion\")\n",
        "updated_array = np.delete(my_array, 2)\n",
        "print(updated_array)"
      ],
      "metadata": {
        "colab": {
          "base_uri": "https://localhost:8080/"
        },
        "id": "5PDeUArqWDmM",
        "outputId": "3e1a5214-7591-4480-8fa0-0c212664dd57"
      },
      "execution_count": 18,
      "outputs": [
        {
          "output_type": "stream",
          "name": "stdout",
          "text": [
            "['Red' 'Green' 'Orange']\n",
            "After deletion\n",
            "['Red' 'Green']\n"
          ]
        }
      ]
    },
    {
      "cell_type": "code",
      "source": [
        "import numpy as np\n",
        "\n",
        "my_array = np.array([\"Red\", \"Green\", \"Orange\"])\n",
        "print(my_array)\n",
        "\n",
        "print(\"After deletion\")\n",
        "updated_array = np.delete(my_array, [0,2])\n",
        "print(updated_array)"
      ],
      "metadata": {
        "colab": {
          "base_uri": "https://localhost:8080/"
        },
        "id": "V1eBcBaMWW7m",
        "outputId": "836beee6-3929-4028-a3c2-ddf5adb2c06a"
      },
      "execution_count": 20,
      "outputs": [
        {
          "output_type": "stream",
          "name": "stdout",
          "text": [
            "['Red' 'Green' 'Orange']\n",
            "After deletion\n",
            "['Green']\n"
          ]
        }
      ]
    },
    {
      "cell_type": "code",
      "source": [
        "integer_random = np.random.randint(1,11, size=(4, 5))\n",
        "print(integer_random)\n",
        "\n",
        "print(\"After deletion\")\n",
        "updated_array = np.delete(integer_random, 2, axis = 0)\n",
        "print(updated_array)"
      ],
      "metadata": {
        "colab": {
          "base_uri": "https://localhost:8080/"
        },
        "id": "sZCfpX_9WueB",
        "outputId": "fd100772-8d95-43fb-a23a-b56ed99bef4a"
      },
      "execution_count": 22,
      "outputs": [
        {
          "output_type": "stream",
          "name": "stdout",
          "text": [
            "[[10  4  9  8  6]\n",
            " [ 3  7 10  4  9]\n",
            " [ 2  9  3  4  1]\n",
            " [ 5  2  2  8  6]]\n",
            "After deletion\n",
            "[[10  4  9  8  6]\n",
            " [ 3  7 10  4  9]\n",
            " [ 5  2  2  8  6]]\n"
          ]
        }
      ]
    },
    {
      "cell_type": "code",
      "source": [
        "integer_random = np.random.randint(1,11, size=(4, 5))\n",
        "print(integer_random)\n",
        "\n",
        "print(\"After deletion\")\n",
        "updated_array = np.delete(integer_random, 1, axis = 1)\n",
        "print(updated_array)"
      ],
      "metadata": {
        "colab": {
          "base_uri": "https://localhost:8080/"
        },
        "id": "2G9KhDT3W6hW",
        "outputId": "daa7a9e4-22ba-49e4-d8fe-cf1fc8bbfda3"
      },
      "execution_count": 24,
      "outputs": [
        {
          "output_type": "stream",
          "name": "stdout",
          "text": [
            "[[ 5  8  9 10  6]\n",
            " [ 1  3  5  8  1]\n",
            " [ 9  3  5  8  6]\n",
            " [ 8  7  9  9  8]]\n",
            "After deletion\n",
            "[[ 5  9 10  6]\n",
            " [ 1  5  8  1]\n",
            " [ 9  5  8  6]\n",
            " [ 8  9  9  8]]\n"
          ]
        }
      ]
    },
    {
      "cell_type": "markdown",
      "source": [
        "Q) Create a random (4,5) array"
      ],
      "metadata": {
        "id": "sj5D0f9AXy5w"
      }
    },
    {
      "cell_type": "code",
      "source": [
        "import numpy as np\n",
        "uniform_random = np.random.rand(4, 5)\n",
        "print(uniform_random)"
      ],
      "metadata": {
        "colab": {
          "base_uri": "https://localhost:8080/"
        },
        "id": "LmbNVbhWXrZL",
        "outputId": "9e5933f3-4615-4ca0-acda-7e21bc66398b"
      },
      "execution_count": 25,
      "outputs": [
        {
          "output_type": "stream",
          "name": "stdout",
          "text": [
            "[[0.95107304 0.51316335 0.03475477 0.08849175 0.42902537]\n",
            " [0.83938568 0.34166387 0.42659656 0.04496641 0.78414176]\n",
            " [0.87660055 0.71308637 0.03105236 0.20902169 0.34236186]\n",
            " [0.33628484 0.17731723 0.84706679 0.63572887 0.40869922]]\n"
          ]
        }
      ]
    }
  ]
}